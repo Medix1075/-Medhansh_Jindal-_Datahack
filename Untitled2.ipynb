{
 "cells": [
  {
   "cell_type": "code",
   "execution_count": 21,
   "id": "be44c67f-8cf9-45af-a1c0-5ff0f857b4bd",
   "metadata": {},
   "outputs": [],
   "source": [
    "import pandas as pd\n",
    "df = pd.read_csv('/Users/Medhansh Jindal/OneDrive/Desktop/Python files/submission_format.csv')\n",
    "\n",
    "Test = pd.read_csv('/Users/Medhansh Jindal/OneDrive/Desktop/Python files/test_set_features.csv')\n",
    "\n",
    "label = pd.read_csv('/Users/Medhansh Jindal/OneDrive/Desktop/Python files/training_set_labels.csv')\n",
    "\n",
    "TraiN = pd.read_csv('/Users/Medhansh Jindal/OneDrive/Desktop/Python files/training_set_features.csv')\n",
    "\n",
    "TraiN.loc[TraiN.xyz_concern.isnull() & TraiN.xyz_knowledge.isnull(),['xyz_concern','xyz_knowledge']] = 0\n",
    "Test.loc[Test.xyz_concern.isnull() & Test.xyz_knowledge.isnull(),['xyz_concern','xyz_knowledge']] = 0\n",
    "\n",
    "TraiN.loc[(TraiN.xyz_concern == 3) & (TraiN.xyz_knowledge.isnull()), ['xyz_knowledge']] = 2\n",
    "Test.loc[(Test.xyz_concern == 3) & (Test.xyz_knowledge.isnull()), ['xyz_knowledge']] = 2\n",
    "\n",
    "TraiN.loc[(TraiN.xyz_concern.isnull()) & (TraiN.xyz_knowledge == 2), ['xyz_concern']] = 3\n",
    "Test.loc[(Test.xyz_concern.isnull()) & (Test.xyz_knowledge == 2), ['xyz_concern']] = 3\n",
    "\n",
    "TraiN.loc[(TraiN.xyz_concern == 2) & (TraiN.xyz_knowledge.isnull()), ['xyz_knowledge']] = 1\n",
    "Test.loc[(Test.xyz_concern == 2) & (Test.xyz_knowledge.isnull()), ['xyz_knowledge']] = 1\n",
    "\n",
    "\n",
    "import numpy as np\n",
    "TraiN.loc[(TraiN.xyz_concern == 1) & (TraiN.xyz_knowledge.isnull()), ['xyz_knowledge']] = np.random.randint(0,2)\n",
    "Test.loc[(Test.xyz_concern == 1) & (Test.xyz_knowledge.isnull()), ['xyz_knowledge']] = np.random.randint(0,2)\n",
    "\n",
    "TraiN.loc[(TraiN.xyz_concern == 0) & (TraiN.xyz_knowledge.isnull()), ['xyz_knowledge']] = np.random.choice([0,2])\n",
    "Test.loc[(Test.xyz_concern == 0) & (Test.xyz_knowledge.isnull()), ['xyz_knowledge']] = np.random.choice([0,2])\n",
    "\n",
    "TraiN.loc[(TraiN.xyz_concern.isnull()) & (TraiN.xyz_knowledge == 1), ['xyz_concern']] = np.random.randint(1,3)\n",
    "Test.loc[(Test.xyz_concern.isnull()) & (Test.xyz_knowledge == 1), ['xyz_concern']] = np.random.randint(1,3)\n",
    "\n",
    "TraiN.loc[(TraiN.xyz_concern.isnull()) & (TraiN.xyz_knowledge == 0), ['xyz_concern']] = 0\n",
    "Test.loc[(Test.xyz_concern.isnull()) & (Test.xyz_knowledge == 0), ['xyz_concern']] = 0\n",
    "\n",
    "TraiN.loc[(TraiN.xyz_concern == 3) & (TraiN.xyz_knowledge == 0) & (TraiN.doctor_recc_xyz.isnull()), ['doctor_recc_xyz']] = 1\n",
    "Test.loc[(Test.xyz_concern == 3) & (Test.xyz_knowledge == 0) & (Test.doctor_recc_xyz.isnull()), ['doctor_recc_xyz']] = 1\n",
    "\n",
    "TraiN.loc[(TraiN.xyz_concern == 0) & (TraiN.xyz_knowledge == 0) & (TraiN.doctor_recc_xyz.isnull()), ['doctor_recc_xyz']] = 0\n",
    "Test.loc[(Test.xyz_concern == 0) & (Test.xyz_knowledge == 0) & (Test.doctor_recc_xyz.isnull()), ['doctor_recc_xyz']] = 0\n",
    "\n",
    "TraiN.drop(['sex', 'marital_status','employment_industry', 'employment_occupation', 'hhs_geo_region', 'rent_or_own', 'race', 'household_adults', 'household_children'], axis=1, inplace=True)  \n",
    "Test.drop(['sex', 'marital_status','employment_industry', 'employment_occupation', 'hhs_geo_region', 'rent_or_own', 'race', 'household_adults', 'household_children'], axis=1, inplace=True)  \n",
    "\n",
    "# Encoding Below Poverty as 0 and Above Poverty as 1\n",
    "TraiN.income_poverty = TraiN['income_poverty'].apply(lambda x: 0 if x == 'Below Poverty' else (1 if x == '<= $75,000, Above Poverty' else x))\n",
    "\n",
    "TraiN.loc[TraiN.income_poverty.isnull(), ['income_poverty']] = np.random.randint(0,2)\n",
    "\n",
    "Test.income_poverty = Test['income_poverty'].apply(lambda x: 0 if x == 'Below Poverty' else (1 if x == '<= $75,000, Above Poverty' else x))\n",
    "\n",
    "Test.loc[Test.income_poverty.isnull(), ['income_poverty']] = np.random.randint(0,2)\n",
    "\n",
    "TraiN.dropna(subset=['behavioral_antiviral_meds', 'behavioral_face_mask','behavioral_wash_hands','behavioral_large_gatherings','behavioral_outside_home', 'behavioral_touch_face', 'chronic_med_condition','child_under_6_months','child_under_6_months','opinion_xyz_vacc_effective','opinion_xyz_risk','opinion_xyz_sick_from_vacc','opinion_seas_vacc_effective','opinion_seas_risk','opinion_seas_sick_from_vacc'], inplace=True)\n",
    "Test.dropna(subset=['behavioral_antiviral_meds', 'behavioral_face_mask','behavioral_wash_hands','behavioral_large_gatherings','behavioral_outside_home', 'behavioral_touch_face', 'chronic_med_condition','child_under_6_months','child_under_6_months','opinion_xyz_vacc_effective','opinion_xyz_risk','opinion_xyz_sick_from_vacc','opinion_seas_vacc_effective','opinion_seas_risk','opinion_seas_sick_from_vacc'], inplace=True)\n",
    "\n",
    "TraiN.loc[(TraiN.income_poverty == 0) & (TraiN.health_insurance.isnull()), ['health_insurance']] = 0\n",
    "Test.loc[(Test.income_poverty == 0) & (Test.health_insurance.isnull()), ['health_insurance']] = 0\n",
    "\n",
    "TraiN.loc[(TraiN.health_insurance.isnull()), ['health_insurance']] = np.random.randint(0,2)\n",
    "Test.loc[(Test.health_insurance.isnull()), ['health_insurance']] = np.random.randint(0,2)\n",
    "\n",
    "TraiN.loc[(TraiN.doctor_recc_seasonal.isnull()), ['doctor_recc_seasonal']] = np.random.randint(0,2)\n",
    "TraiN.loc[(TraiN.doctor_recc_xyz.isnull()), ['doctor_recc_xyz']] = np.random.randint(0,2)\n",
    "Test.loc[(Test.doctor_recc_seasonal.isnull()), ['doctor_recc_seasonal']] = np.random.randint(0,2)\n",
    "Test.loc[(Test.doctor_recc_xyz.isnull()), ['doctor_recc_xyz']] = np.random.randint(0,2)\n",
    "\n",
    "TraiN.loc[(TraiN.xyz_concern == 3) & (TraiN.xyz_knowledge == 0) & (TraiN.doctor_recc_seasonal.isnull()), ['doctor_recc_xyz']] = 1\n",
    "TraiN.loc[(TraiN.xyz_concern == 0) & (TraiN.xyz_knowledge == 0) & (TraiN.doctor_recc_seasonal.isnull()), ['doctor_recc_xyz']] = 0\n",
    "Test.loc[(Test.xyz_concern == 3) & (Test.xyz_knowledge == 0) & (Test.doctor_recc_seasonal.isnull()), ['doctor_recc_xyz']] = 1\n",
    "Test.loc[(Test.xyz_concern == 0) & (Test.xyz_knowledge == 0) & (Test.doctor_recc_seasonal.isnull()), ['doctor_recc_xyz']] = 0\n",
    "\n",
    "TraiN.loc[(TraiN.xyz_concern == 3)  & (TraiN.behavioral_avoidance.isnull()), ['behavioral_avoidance']] = 1\n",
    "Test.loc[(Test.xyz_concern == 3)  & (Test.behavioral_avoidance.isnull()), ['behavioral_avoidance']] = 1\n",
    "\n",
    "TraiN.loc[(TraiN.behavioral_avoidance.isnull()), ['behavioral_avoidance']] = np.random.randint(0,2)\n",
    "Test.loc[(Test.behavioral_avoidance.isnull()), ['behavioral_avoidance']] = np.random.randint(0,2)\n",
    "\n",
    "\n",
    "TraiN['education'] = TraiN['education'].apply(lambda y: 2 if y in ['Some College', 'College Graduate'] else (1 if y == '12 Years' else 0))\n",
    "TraiN['employment_status'] = TraiN['employment_status'].apply(lambda y: 1 if y=='Employed' else (0 if y == 'Not in Labor Force' else y))\n",
    "\n",
    "Test['education'] = Test['education'].apply(lambda y: 2 if y in ['Some College', 'College Graduate'] else (1 if y == '12 Years' else 0))\n",
    "Test['employment_status'] = Test['employment_status'].apply(lambda y: 1 if y=='Employed' else (0 if y == 'Not in Labor Force' else y))\n",
    "\n",
    "TraiN.loc[TraiN.employment_status.isnull(), ['employment_status']] = np.random.randint(0,2)\n",
    "Test.loc[Test.employment_status.isnull(), ['employment_status']] = np.random.randint(0,2)\n",
    "\n",
    "TraiN.loc[TraiN.health_worker.isnull(), ['health_worker']] = np.random.randint(0,2)\n",
    "Test.loc[Test.health_worker.isnull(), ['health_worker']] = np.random.randint(0,2)\n",
    "\n"
   ]
  },
  {
   "cell_type": "code",
   "execution_count": 24,
   "id": "ccd75d34-e0df-4692-883a-b62cbe9d31b7",
   "metadata": {},
   "outputs": [],
   "source": [
    "data = TraiN.merge(label, how='inner', on='respondent_id')\n",
    "data.loc[(data.income_poverty =='> $75,000'), ['income_poverty']] = 2\n",
    "\n",
    "data.drop(['education','census_msa'], axis=1, inplace=True)\n",
    "TraiN.drop(['education','census_msa'], axis=1, inplace=True)\n",
    "\n",
    "Test.drop(['education','census_msa'], axis=1, inplace=True)\n",
    "\n",
    "data.loc[(data.age_group == '18 - 34 Years'), ['age_group']] = 0\n",
    "data.loc[(data.age_group == '35 - 44 Years'), ['age_group']] = 1\n",
    "data.loc[(data.age_group == '45 - 54 Years'), ['age_group']] = 2\n",
    "data.loc[(data.age_group == '55 - 64 Years'), ['age_group']] = 3\n",
    "data.loc[(data.age_group == '65+ Years'), ['age_group']] = 4\n",
    "\n",
    "Test.loc[(Test.age_group == '18 - 34 Years'), ['age_group']] = 0\n",
    "Test.loc[(Test.age_group == '35 - 44 Years'), ['age_group']] = 1\n",
    "Test.loc[(Test.age_group == '45 - 54 Years'), ['age_group']] = 2\n",
    "Test.loc[(Test.age_group == '55 - 64 Years'), ['age_group']] = 3\n",
    "Test.loc[(Test.age_group == '65+ Years'), ['age_group']] = 4\n",
    "\n",
    "data.loc[(data.employment_status =='Unemployed'), ['employment_status']] = 0\n",
    "data.loc[(data.employment_status =='Not in Labor Force'), ['employment_status']] = 1\n",
    "\n",
    "data.loc[(data.employment_status =='Employed'), ['employment_status']] = 2\n",
    "\n",
    "Test.loc[(Test.employment_status =='Unemployed'), ['employment_status']] = 0\n",
    "Test.loc[(Test.employment_status =='Not in Labor Force'), ['employment_status']] = 1\n",
    "\n",
    "Test.loc[(Test.employment_status =='Employed'), ['employment_status']] = 2\n",
    "\n",
    "TraiN.loc[(TraiN.income_poverty =='> $75,000'), ['income_poverty']] = 2\n",
    "Test.loc[(Test.income_poverty =='> $75,000'), ['income_poverty']] = 2\n"
   ]
  },
  {
   "cell_type": "code",
   "execution_count": 25,
   "id": "caa3da8d-6f1f-434b-bed0-cdbadc3c5093",
   "metadata": {},
   "outputs": [],
   "source": [
    "from sklearn.preprocessing import StandardScaler\n",
    "\n",
    "from sklearn.svm import SVC\n",
    "model1 = SVC(kernel='linear', probability=True)\n",
    "model2 = SVC(kernel='linear', probability=True)\n",
    "\n",
    "x = data.drop(['xyz_vaccine','seasonal_vaccine'], axis='columns')\n",
    "y = data.xyz_vaccine\n",
    "z = data.seasonal_vaccine\n",
    "\n",
    "scaler = StandardScaler()\n",
    "x_scaled = scaler.fit_transform(x)\n",
    "\n"
   ]
  },
  {
   "cell_type": "code",
   "execution_count": 27,
   "id": "f7d5fac2-d608-4d0a-a2a5-f7f34d4f4020",
   "metadata": {},
   "outputs": [
    {
     "data": {
      "text/html": [
       "<style>#sk-container-id-5 {color: black;background-color: white;}#sk-container-id-5 pre{padding: 0;}#sk-container-id-5 div.sk-toggleable {background-color: white;}#sk-container-id-5 label.sk-toggleable__label {cursor: pointer;display: block;width: 100%;margin-bottom: 0;padding: 0.3em;box-sizing: border-box;text-align: center;}#sk-container-id-5 label.sk-toggleable__label-arrow:before {content: \"▸\";float: left;margin-right: 0.25em;color: #696969;}#sk-container-id-5 label.sk-toggleable__label-arrow:hover:before {color: black;}#sk-container-id-5 div.sk-estimator:hover label.sk-toggleable__label-arrow:before {color: black;}#sk-container-id-5 div.sk-toggleable__content {max-height: 0;max-width: 0;overflow: hidden;text-align: left;background-color: #f0f8ff;}#sk-container-id-5 div.sk-toggleable__content pre {margin: 0.2em;color: black;border-radius: 0.25em;background-color: #f0f8ff;}#sk-container-id-5 input.sk-toggleable__control:checked~div.sk-toggleable__content {max-height: 200px;max-width: 100%;overflow: auto;}#sk-container-id-5 input.sk-toggleable__control:checked~label.sk-toggleable__label-arrow:before {content: \"▾\";}#sk-container-id-5 div.sk-estimator input.sk-toggleable__control:checked~label.sk-toggleable__label {background-color: #d4ebff;}#sk-container-id-5 div.sk-label input.sk-toggleable__control:checked~label.sk-toggleable__label {background-color: #d4ebff;}#sk-container-id-5 input.sk-hidden--visually {border: 0;clip: rect(1px 1px 1px 1px);clip: rect(1px, 1px, 1px, 1px);height: 1px;margin: -1px;overflow: hidden;padding: 0;position: absolute;width: 1px;}#sk-container-id-5 div.sk-estimator {font-family: monospace;background-color: #f0f8ff;border: 1px dotted black;border-radius: 0.25em;box-sizing: border-box;margin-bottom: 0.5em;}#sk-container-id-5 div.sk-estimator:hover {background-color: #d4ebff;}#sk-container-id-5 div.sk-parallel-item::after {content: \"\";width: 100%;border-bottom: 1px solid gray;flex-grow: 1;}#sk-container-id-5 div.sk-label:hover label.sk-toggleable__label {background-color: #d4ebff;}#sk-container-id-5 div.sk-serial::before {content: \"\";position: absolute;border-left: 1px solid gray;box-sizing: border-box;top: 0;bottom: 0;left: 50%;z-index: 0;}#sk-container-id-5 div.sk-serial {display: flex;flex-direction: column;align-items: center;background-color: white;padding-right: 0.2em;padding-left: 0.2em;position: relative;}#sk-container-id-5 div.sk-item {position: relative;z-index: 1;}#sk-container-id-5 div.sk-parallel {display: flex;align-items: stretch;justify-content: center;background-color: white;position: relative;}#sk-container-id-5 div.sk-item::before, #sk-container-id-5 div.sk-parallel-item::before {content: \"\";position: absolute;border-left: 1px solid gray;box-sizing: border-box;top: 0;bottom: 0;left: 50%;z-index: -1;}#sk-container-id-5 div.sk-parallel-item {display: flex;flex-direction: column;z-index: 1;position: relative;background-color: white;}#sk-container-id-5 div.sk-parallel-item:first-child::after {align-self: flex-end;width: 50%;}#sk-container-id-5 div.sk-parallel-item:last-child::after {align-self: flex-start;width: 50%;}#sk-container-id-5 div.sk-parallel-item:only-child::after {width: 0;}#sk-container-id-5 div.sk-dashed-wrapped {border: 1px dashed gray;margin: 0 0.4em 0.5em 0.4em;box-sizing: border-box;padding-bottom: 0.4em;background-color: white;}#sk-container-id-5 div.sk-label label {font-family: monospace;font-weight: bold;display: inline-block;line-height: 1.2em;}#sk-container-id-5 div.sk-label-container {text-align: center;}#sk-container-id-5 div.sk-container {/* jupyter's `normalize.less` sets `[hidden] { display: none; }` but bootstrap.min.css set `[hidden] { display: none !important; }` so we also need the `!important` here to be able to override the default hidden behavior on the sphinx rendered scikit-learn.org. See: https://github.com/scikit-learn/scikit-learn/issues/21755 */display: inline-block !important;position: relative;}#sk-container-id-5 div.sk-text-repr-fallback {display: none;}</style><div id=\"sk-container-id-5\" class=\"sk-top-container\"><div class=\"sk-text-repr-fallback\"><pre>SVC(kernel=&#x27;linear&#x27;, probability=True)</pre><b>In a Jupyter environment, please rerun this cell to show the HTML representation or trust the notebook. <br />On GitHub, the HTML representation is unable to render, please try loading this page with nbviewer.org.</b></div><div class=\"sk-container\" hidden><div class=\"sk-item\"><div class=\"sk-estimator sk-toggleable\"><input class=\"sk-toggleable__control sk-hidden--visually\" id=\"sk-estimator-id-5\" type=\"checkbox\" checked><label for=\"sk-estimator-id-5\" class=\"sk-toggleable__label sk-toggleable__label-arrow\">SVC</label><div class=\"sk-toggleable__content\"><pre>SVC(kernel=&#x27;linear&#x27;, probability=True)</pre></div></div></div></div></div>"
      ],
      "text/plain": [
       "SVC(kernel='linear', probability=True)"
      ]
     },
     "execution_count": 27,
     "metadata": {},
     "output_type": "execute_result"
    }
   ],
   "source": [
    "model1.fit(x_scaled, y)"
   ]
  },
  {
   "cell_type": "code",
   "execution_count": 28,
   "id": "d2c631c5-b88e-423b-9a5e-9598e8bfb330",
   "metadata": {},
   "outputs": [
    {
     "data": {
      "text/html": [
       "<style>#sk-container-id-6 {color: black;background-color: white;}#sk-container-id-6 pre{padding: 0;}#sk-container-id-6 div.sk-toggleable {background-color: white;}#sk-container-id-6 label.sk-toggleable__label {cursor: pointer;display: block;width: 100%;margin-bottom: 0;padding: 0.3em;box-sizing: border-box;text-align: center;}#sk-container-id-6 label.sk-toggleable__label-arrow:before {content: \"▸\";float: left;margin-right: 0.25em;color: #696969;}#sk-container-id-6 label.sk-toggleable__label-arrow:hover:before {color: black;}#sk-container-id-6 div.sk-estimator:hover label.sk-toggleable__label-arrow:before {color: black;}#sk-container-id-6 div.sk-toggleable__content {max-height: 0;max-width: 0;overflow: hidden;text-align: left;background-color: #f0f8ff;}#sk-container-id-6 div.sk-toggleable__content pre {margin: 0.2em;color: black;border-radius: 0.25em;background-color: #f0f8ff;}#sk-container-id-6 input.sk-toggleable__control:checked~div.sk-toggleable__content {max-height: 200px;max-width: 100%;overflow: auto;}#sk-container-id-6 input.sk-toggleable__control:checked~label.sk-toggleable__label-arrow:before {content: \"▾\";}#sk-container-id-6 div.sk-estimator input.sk-toggleable__control:checked~label.sk-toggleable__label {background-color: #d4ebff;}#sk-container-id-6 div.sk-label input.sk-toggleable__control:checked~label.sk-toggleable__label {background-color: #d4ebff;}#sk-container-id-6 input.sk-hidden--visually {border: 0;clip: rect(1px 1px 1px 1px);clip: rect(1px, 1px, 1px, 1px);height: 1px;margin: -1px;overflow: hidden;padding: 0;position: absolute;width: 1px;}#sk-container-id-6 div.sk-estimator {font-family: monospace;background-color: #f0f8ff;border: 1px dotted black;border-radius: 0.25em;box-sizing: border-box;margin-bottom: 0.5em;}#sk-container-id-6 div.sk-estimator:hover {background-color: #d4ebff;}#sk-container-id-6 div.sk-parallel-item::after {content: \"\";width: 100%;border-bottom: 1px solid gray;flex-grow: 1;}#sk-container-id-6 div.sk-label:hover label.sk-toggleable__label {background-color: #d4ebff;}#sk-container-id-6 div.sk-serial::before {content: \"\";position: absolute;border-left: 1px solid gray;box-sizing: border-box;top: 0;bottom: 0;left: 50%;z-index: 0;}#sk-container-id-6 div.sk-serial {display: flex;flex-direction: column;align-items: center;background-color: white;padding-right: 0.2em;padding-left: 0.2em;position: relative;}#sk-container-id-6 div.sk-item {position: relative;z-index: 1;}#sk-container-id-6 div.sk-parallel {display: flex;align-items: stretch;justify-content: center;background-color: white;position: relative;}#sk-container-id-6 div.sk-item::before, #sk-container-id-6 div.sk-parallel-item::before {content: \"\";position: absolute;border-left: 1px solid gray;box-sizing: border-box;top: 0;bottom: 0;left: 50%;z-index: -1;}#sk-container-id-6 div.sk-parallel-item {display: flex;flex-direction: column;z-index: 1;position: relative;background-color: white;}#sk-container-id-6 div.sk-parallel-item:first-child::after {align-self: flex-end;width: 50%;}#sk-container-id-6 div.sk-parallel-item:last-child::after {align-self: flex-start;width: 50%;}#sk-container-id-6 div.sk-parallel-item:only-child::after {width: 0;}#sk-container-id-6 div.sk-dashed-wrapped {border: 1px dashed gray;margin: 0 0.4em 0.5em 0.4em;box-sizing: border-box;padding-bottom: 0.4em;background-color: white;}#sk-container-id-6 div.sk-label label {font-family: monospace;font-weight: bold;display: inline-block;line-height: 1.2em;}#sk-container-id-6 div.sk-label-container {text-align: center;}#sk-container-id-6 div.sk-container {/* jupyter's `normalize.less` sets `[hidden] { display: none; }` but bootstrap.min.css set `[hidden] { display: none !important; }` so we also need the `!important` here to be able to override the default hidden behavior on the sphinx rendered scikit-learn.org. See: https://github.com/scikit-learn/scikit-learn/issues/21755 */display: inline-block !important;position: relative;}#sk-container-id-6 div.sk-text-repr-fallback {display: none;}</style><div id=\"sk-container-id-6\" class=\"sk-top-container\"><div class=\"sk-text-repr-fallback\"><pre>SVC(kernel=&#x27;linear&#x27;, probability=True)</pre><b>In a Jupyter environment, please rerun this cell to show the HTML representation or trust the notebook. <br />On GitHub, the HTML representation is unable to render, please try loading this page with nbviewer.org.</b></div><div class=\"sk-container\" hidden><div class=\"sk-item\"><div class=\"sk-estimator sk-toggleable\"><input class=\"sk-toggleable__control sk-hidden--visually\" id=\"sk-estimator-id-6\" type=\"checkbox\" checked><label for=\"sk-estimator-id-6\" class=\"sk-toggleable__label sk-toggleable__label-arrow\">SVC</label><div class=\"sk-toggleable__content\"><pre>SVC(kernel=&#x27;linear&#x27;, probability=True)</pre></div></div></div></div></div>"
      ],
      "text/plain": [
       "SVC(kernel='linear', probability=True)"
      ]
     },
     "execution_count": 28,
     "metadata": {},
     "output_type": "execute_result"
    }
   ],
   "source": [
    "model2.fit(x_scaled, z)"
   ]
  },
  {
   "cell_type": "code",
   "execution_count": 29,
   "id": "a1d1d5ed-9039-4fc9-aa15-74b21d6f2215",
   "metadata": {},
   "outputs": [
    {
     "name": "stderr",
     "output_type": "stream",
     "text": [
      "C:\\Users\\Medhansh Jindal\\anaconda3\\Lib\\site-packages\\sklearn\\base.py:432: UserWarning: X has feature names, but SVC was fitted without feature names\n",
      "  warnings.warn(\n"
     ]
    },
    {
     "data": {
      "text/plain": [
       "0        1.000000e-07\n",
       "1        1.000000e-07\n",
       "2        1.000000e-07\n",
       "3        1.000000e-07\n",
       "4        1.000000e-07\n",
       "             ...     \n",
       "25134    1.000000e-07\n",
       "25135    1.000000e-07\n",
       "25136    1.000000e-07\n",
       "25137    1.000000e-07\n",
       "25138    1.000000e-07\n",
       "Name: xyz_vaccine, Length: 25139, dtype: float64"
      ]
     },
     "execution_count": 29,
     "metadata": {},
     "output_type": "execute_result"
    }
   ],
   "source": [
    "y_prob = model1.predict_proba(Test)[:,1]\n",
    "xyz_vaccine = pd.Series(y_prob, name='xyz_vaccine')\n",
    "xyz_vaccine"
   ]
  },
  {
   "cell_type": "code",
   "execution_count": null,
   "id": "391d5c80-9bc6-4f71-9660-3538572f6e40",
   "metadata": {},
   "outputs": [],
   "source": [
    "y_prob2 = model2.predict_proba(Test)[:,1]\n",
    "seasonal_vaccine = pd.Series(y_prob2, name='seasonal_vaccine')\n"
   ]
  },
  {
   "cell_type": "code",
   "execution_count": 13,
   "id": "63a5dfe3-1566-4f19-8a90-93485ed875b2",
   "metadata": {},
   "outputs": [
    {
     "data": {
      "text/html": [
       "<div>\n",
       "<style scoped>\n",
       "    .dataframe tbody tr th:only-of-type {\n",
       "        vertical-align: middle;\n",
       "    }\n",
       "\n",
       "    .dataframe tbody tr th {\n",
       "        vertical-align: top;\n",
       "    }\n",
       "\n",
       "    .dataframe thead th {\n",
       "        text-align: right;\n",
       "    }\n",
       "</style>\n",
       "<table border=\"1\" class=\"dataframe\">\n",
       "  <thead>\n",
       "    <tr style=\"text-align: right;\">\n",
       "      <th></th>\n",
       "      <th>respondent_id</th>\n",
       "      <th>xyz_vaccine</th>\n",
       "      <th>seasonal_vaccine</th>\n",
       "    </tr>\n",
       "  </thead>\n",
       "  <tbody>\n",
       "    <tr>\n",
       "      <th>0</th>\n",
       "      <td>26707</td>\n",
       "      <td>1.000000e-07</td>\n",
       "      <td>1.000000e-07</td>\n",
       "    </tr>\n",
       "    <tr>\n",
       "      <th>1</th>\n",
       "      <td>26708</td>\n",
       "      <td>1.000000e-07</td>\n",
       "      <td>1.000000e-07</td>\n",
       "    </tr>\n",
       "    <tr>\n",
       "      <th>2</th>\n",
       "      <td>26709</td>\n",
       "      <td>1.000000e-07</td>\n",
       "      <td>1.000000e-07</td>\n",
       "    </tr>\n",
       "    <tr>\n",
       "      <th>3</th>\n",
       "      <td>26710</td>\n",
       "      <td>1.000000e-07</td>\n",
       "      <td>1.000000e-07</td>\n",
       "    </tr>\n",
       "    <tr>\n",
       "      <th>4</th>\n",
       "      <td>26711</td>\n",
       "      <td>1.000000e-07</td>\n",
       "      <td>1.000000e-07</td>\n",
       "    </tr>\n",
       "    <tr>\n",
       "      <th>...</th>\n",
       "      <td>...</td>\n",
       "      <td>...</td>\n",
       "      <td>...</td>\n",
       "    </tr>\n",
       "    <tr>\n",
       "      <th>25134</th>\n",
       "      <td>51841</td>\n",
       "      <td>1.000000e-07</td>\n",
       "      <td>1.000000e-07</td>\n",
       "    </tr>\n",
       "    <tr>\n",
       "      <th>25135</th>\n",
       "      <td>51842</td>\n",
       "      <td>1.000000e-07</td>\n",
       "      <td>1.000000e-07</td>\n",
       "    </tr>\n",
       "    <tr>\n",
       "      <th>25136</th>\n",
       "      <td>51843</td>\n",
       "      <td>1.000000e-07</td>\n",
       "      <td>1.000000e-07</td>\n",
       "    </tr>\n",
       "    <tr>\n",
       "      <th>25137</th>\n",
       "      <td>51844</td>\n",
       "      <td>1.000000e-07</td>\n",
       "      <td>1.000000e-07</td>\n",
       "    </tr>\n",
       "    <tr>\n",
       "      <th>25138</th>\n",
       "      <td>51845</td>\n",
       "      <td>1.000000e-07</td>\n",
       "      <td>1.000000e-07</td>\n",
       "    </tr>\n",
       "  </tbody>\n",
       "</table>\n",
       "<p>23670 rows × 3 columns</p>\n",
       "</div>"
      ],
      "text/plain": [
       "       respondent_id   xyz_vaccine  seasonal_vaccine\n",
       "0              26707  1.000000e-07      1.000000e-07\n",
       "1              26708  1.000000e-07      1.000000e-07\n",
       "2              26709  1.000000e-07      1.000000e-07\n",
       "3              26710  1.000000e-07      1.000000e-07\n",
       "4              26711  1.000000e-07      1.000000e-07\n",
       "...              ...           ...               ...\n",
       "25134          51841  1.000000e-07      1.000000e-07\n",
       "25135          51842  1.000000e-07      1.000000e-07\n",
       "25136          51843  1.000000e-07      1.000000e-07\n",
       "25137          51844  1.000000e-07      1.000000e-07\n",
       "25138          51845  1.000000e-07      1.000000e-07\n",
       "\n",
       "[23670 rows x 3 columns]"
      ]
     },
     "execution_count": 13,
     "metadata": {},
     "output_type": "execute_result"
    }
   ],
   "source": [
    "final = test.merge(xyz_vaccine, how='inner', left_index= True,right_index=True)\n",
    "submission_hackathon = final.merge(seasonal_vaccine,  how='inner', left_index= True,right_index=True)\n",
    "\n",
    "submission = submission_hackathon[['xyz_vaccine','seasonal_vaccine']]\n",
    "id = test.respondent_id\n",
    "submission = submission.merge(id, how='inner', right_index=True, left_index=True)\n",
    "Submission = submission[['respondent_id', 'xyz_vaccine', 'seasonal_vaccine']]\n",
    "Submission"
   ]
  },
  {
   "cell_type": "code",
   "execution_count": null,
   "id": "e4d12d36-76d9-4ca6-876c-577c97f82baf",
   "metadata": {},
   "outputs": [],
   "source": []
  }
 ],
 "metadata": {
  "kernelspec": {
   "display_name": "Python 3 (ipykernel)",
   "language": "python",
   "name": "python3"
  },
  "language_info": {
   "codemirror_mode": {
    "name": "ipython",
    "version": 3
   },
   "file_extension": ".py",
   "mimetype": "text/x-python",
   "name": "python",
   "nbconvert_exporter": "python",
   "pygments_lexer": "ipython3",
   "version": "3.11.7"
  }
 },
 "nbformat": 4,
 "nbformat_minor": 5
}
